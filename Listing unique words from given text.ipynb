{
 "cells": [
  {
   "cell_type": "code",
   "execution_count": 1,
   "metadata": {},
   "outputs": [
    {
     "name": "stdout",
     "output_type": "stream",
     "text": [
      "enter the stringlandscapes that seemed plucked from the annals of myth and legend. Along the way, he encountered tribes of nomadic wanderers, ancient civilizations lost to the sands of time, and creatures of fable and folklore that haunted the darkest recesses of the human imagination\n",
      "<type 'str'>\n"
     ]
    }
   ],
   "source": [
    "str_text = raw_input(\"enter the string\")\n",
    "print(type(str_text))"
   ]
  },
  {
   "cell_type": "code",
   "execution_count": 2,
   "metadata": {},
   "outputs": [
    {
     "data": {
      "text/plain": [
       "'landscapes that seemed plucked from the annals of myth and legend. Along the way, he encountered tribes of nomadic wanderers, ancient civilizations lost to the sands of time, and creatures of fable and folklore that haunted the darkest recesses of the human imagination'"
      ]
     },
     "execution_count": 2,
     "metadata": {},
     "output_type": "execute_result"
    }
   ],
   "source": [
    "str(str_text)"
   ]
  },
  {
   "cell_type": "code",
   "execution_count": 3,
   "metadata": {},
   "outputs": [
    {
     "data": {
      "text/plain": [
       "'landscapes that seemed plucked from the annals of myth and legend. Along the way he encountered tribes of nomadic wanderers ancient civilizations lost to the sands of time and creatures of fable and folklore that haunted the darkest recesses of the human imagination'"
      ]
     },
     "execution_count": 3,
     "metadata": {},
     "output_type": "execute_result"
    }
   ],
   "source": [
    "c = str_text.replace(\",\", \"\")\n",
    "c"
   ]
  },
  {
   "cell_type": "code",
   "execution_count": 4,
   "metadata": {},
   "outputs": [
    {
     "data": {
      "text/plain": [
       "'landscapes that seemed plucked from the annals of myth and legend Along the way he encountered tribes of nomadic wanderers ancient civilizations lost to the sands of time and creatures of fable and folklore that haunted the darkest recesses of the human imagination'"
      ]
     },
     "execution_count": 4,
     "metadata": {},
     "output_type": "execute_result"
    }
   ],
   "source": [
    "d = c.replace(\".\", \"\")\n",
    "d"
   ]
  },
  {
   "cell_type": "code",
   "execution_count": 5,
   "metadata": {},
   "outputs": [
    {
     "data": {
      "text/plain": [
       "'landscapes that seemed plucked from the annals of myth and legend Along the way he encountered tribes of nomadic wanderers ancient civilizations lost to the sands of time and creatures of fable and folklore that haunted the darkest recesses of the human imagination'"
      ]
     },
     "execution_count": 5,
     "metadata": {},
     "output_type": "execute_result"
    }
   ],
   "source": [
    "e=d.replace(\"?\", \"\")\n",
    "e"
   ]
  },
  {
   "cell_type": "code",
   "execution_count": 6,
   "metadata": {},
   "outputs": [
    {
     "data": {
      "text/plain": [
       "'landscapes that seemed plucked from the annals of myth and legend Along the way he encountered tribes of nomadic wanderers ancient civilizations lost to the sands of time and creatures of fable and folklore that haunted the darkest recesses of the human imagination'"
      ]
     },
     "execution_count": 6,
     "metadata": {},
     "output_type": "execute_result"
    }
   ],
   "source": [
    "f=d.replace(\"\\'s\", \"\")\n",
    "f"
   ]
  },
  {
   "cell_type": "code",
   "execution_count": 7,
   "metadata": {},
   "outputs": [
    {
     "data": {
      "text/plain": [
       "'landscapes that seemed plucked from the annals of myth and legend along the way he encountered tribes of nomadic wanderers ancient civilizations lost to the sands of time and creatures of fable and folklore that haunted the darkest recesses of the human imagination'"
      ]
     },
     "execution_count": 7,
     "metadata": {},
     "output_type": "execute_result"
    }
   ],
   "source": [
    "g = f.lower()\n",
    "g"
   ]
  },
  {
   "cell_type": "code",
   "execution_count": 8,
   "metadata": {},
   "outputs": [
    {
     "name": "stdout",
     "output_type": "stream",
     "text": [
      "['along', 'ancient', 'annals', 'civilizations', 'creatures', 'darkest', 'encountered', 'fable', 'folklore', 'haunted', 'human', 'imagination', 'landscapes', 'legend', 'lost', 'myth', 'nomadic', 'plucked', 'recesses', 'sands', 'seemed', 'the', 'time', 'tribes', 'wanderers', 'way']\n"
     ]
    }
   ],
   "source": [
    "list = []\n",
    "stop_words= ['the','he','of','and','C','was','an','such','each','summary','be', 'she', 'so', 'with', 'a', 'have', 'her', 'into', 'that', 'their', 'them', 'there', 'these', 'those', 'though', 'through', 'throughout','who', \n",
    "'use','was', 'it', 'In','is','by','am', 'an','all','are','for', 'and', 'if', 'the', 'to', 'from', 'as', 'in', 'its', 'on', 'has', 'for', 'of']\n",
    "x = g.split()\n",
    "for i in x:\n",
    "    if i not in list:\n",
    "        list.append(i)\n",
    "for p in list:\n",
    "    if p in stop_words:\n",
    "        list.remove(p)        \n",
    "list.sort()\n",
    "print(list)"
   ]
  },
  {
   "cell_type": "code",
   "execution_count": null,
   "metadata": {},
   "outputs": [],
   "source": []
  },
  {
   "cell_type": "code",
   "execution_count": null,
   "metadata": {},
   "outputs": [],
   "source": []
  }
 ],
 "metadata": {
  "kernelspec": {
   "display_name": "Python 2",
   "language": "python",
   "name": "python2"
  },
  "language_info": {
   "codemirror_mode": {
    "name": "ipython",
    "version": 2
   },
   "file_extension": ".py",
   "mimetype": "text/x-python",
   "name": "python",
   "nbconvert_exporter": "python",
   "pygments_lexer": "ipython2",
   "version": "2.7.16"
  }
 },
 "nbformat": 4,
 "nbformat_minor": 2
}
