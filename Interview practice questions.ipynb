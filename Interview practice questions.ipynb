{
 "cells": [
  {
   "cell_type": "code",
   "execution_count": 9,
   "metadata": {},
   "outputs": [
    {
     "name": "stdout",
     "output_type": "stream",
     "text": [
      "Enter a number: 0\n",
      "('Factorial:', 1)\n"
     ]
    }
   ],
   "source": [
    "def factorial(n):\n",
    "    if n == 0:\n",
    "        return 1\n",
    "    else:\n",
    "        return n * factorial(n - 1)\n",
    "    \n",
    "num = int(input(\"Enter a number: \"))\n",
    "print(\"Factorial:\", factorial(num))"
   ]
  },
  {
   "cell_type": "code",
   "execution_count": 8,
   "metadata": {},
   "outputs": [
    {
     "name": "stdout",
     "output_type": "stream",
     "text": [
      "120\n"
     ]
    }
   ],
   "source": [
    "print(5*4*3*2*1)"
   ]
  },
  {
   "cell_type": "code",
   "execution_count": 11,
   "metadata": {},
   "outputs": [
    {
     "data": {
      "text/plain": [
       "120"
      ]
     },
     "execution_count": 11,
     "metadata": {},
     "output_type": "execute_result"
    }
   ],
   "source": [
    "result = factorial(5)\n",
    "result"
   ]
  },
  {
   "cell_type": "code",
   "execution_count": 18,
   "metadata": {},
   "outputs": [
    {
     "name": "stdout",
     "output_type": "stream",
     "text": [
      "Enter a number: 445\n",
      "('total_sum:', 99235)\n"
     ]
    }
   ],
   "source": [
    "def total_sum(n):\n",
    "    if n == 0:\n",
    "        return 0\n",
    "    else:\n",
    "        return n + total_sum(n - 1)\n",
    "    \n",
    "num = int(input(\"Enter a number: \"))\n",
    "print(\"total_sum:\", total_sum(num))    "
   ]
  },
  {
   "cell_type": "code",
   "execution_count": 15,
   "metadata": {},
   "outputs": [
    {
     "data": {
      "text/plain": [
       "15"
      ]
     },
     "execution_count": 15,
     "metadata": {},
     "output_type": "execute_result"
    }
   ],
   "source": [
    "5+4+3+2+1+0"
   ]
  },
  {
   "cell_type": "code",
   "execution_count": 23,
   "metadata": {},
   "outputs": [
    {
     "name": "stdout",
     "output_type": "stream",
     "text": [
      "Enter the number of terms: 10\n",
      "Fibonacci sequence:\n",
      "0\n",
      "1\n",
      "1\n",
      "2\n",
      "3\n",
      "5\n",
      "8\n",
      "13\n",
      "21\n",
      "34\n"
     ]
    }
   ],
   "source": [
    "#Fibonacci Sequence\n",
    "def fibonacci(n):\n",
    "    if n <= 1:\n",
    "        return n\n",
    "    else:\n",
    "        return fibonacci(n - 1) + fibonacci(n - 2)\n",
    "    \n",
    "terms = int(input(\"Enter the number of terms: \"))\n",
    "print(\"Fibonacci sequence:\")\n",
    "for i in range(terms):\n",
    "    print(fibonacci(i))"
   ]
  },
  {
   "cell_type": "code",
   "execution_count": null,
   "metadata": {},
   "outputs": [],
   "source": [
    "#Simple Calculator\n",
    "#Factorial of a Number:\n",
    "#Fibonacci Sequence\n",
    "#Check for Prime Number\n",
    "# Simple Interest Calculator\n",
    "#Check for Even or Odd\n",
    "# Area of a Circle\n",
    "#List Comprehension\n",
    "#Simple File Handling\n",
    "#Check for Palindrome\n",
    "#Find the Largest Among Three Numbers\n",
    "# Print Multiplication Table\n",
    "#  Convert Celsius to Fahrenheit\n",
    "# Simple String Operations\n",
    "# Bubble Sort Algorithm\n",
    "#Check Leap Year\n",
    "#Count Vowels in a String\n",
    "# Find the LCM of Two Numbers\n",
    "#Basic Class and Object\n",
    "#Check Anagram\n",
    "#Generate a Random Number:\n",
    "#Binary Search Algorithm\n",
    "#Check Armstrong Number\n",
    "# Generate a Simple Pattern\n",
    "#Linear Search Algorithm\n",
    "# Calculate the Power of a Number\n",
    "#Print the Fibonacci Series\n",
    "#Merge Two Sorted Lists:\n",
    "#Generate a Simple Pyramid Pattern:\n",
    "#Check if a Number is Positive, Negative, or Zero:\n",
    "#Generate a List of Prime Numbers within a Range:\n",
    "#Calculate the Area and Perimeter of a Rectangle:\n",
    "#Find the GCD of Two Numbers\n",
    "#Check if a Year is a Leap Year or Not Using Functions\n",
    "#Print the Sum of Natural Numbers up to a Given Number\n",
    "#Reverse a String\n",
    "#Check if a Number is a Perfect Number\n",
    "#Count the Number of Words in a String\n",
    "# Concatenate Two Strings\n",
    "#Check if a Number is a Perfect Square\n",
    "#. Implement a Stack Data Structure\n",
    "#Calculate the Area of a Triangle\n",
    "#Find the ASCII Value of a Character\n",
    "#Generate a Simple Diamond Pattern\n",
    "#Check if a Number is a Perfect Cube\n",
    "#Implement a Queue Data Structure\n",
    "#Calculate the Power Set of a Set\n",
    "#Swap Two Variables\n",
    "#. Print the Factors of a Number\n",
    "#Check if a String is a Pangram\n",
    "# Calculate the Volume of a Cylinder\n",
    "#Check if a String is a Palindrome\n",
    "#Sort a List of Strings:\n",
    "# Generate a Simple Pascal's Triangle\n",
    "#Implement a Binary Search Tree\n",
    "# Implement a Linear Regression Model\n",
    "#Count the Number of Digits in an Integer\n",
    "# Generate a Random Password\n",
    "#Calculate the Exponential Value\n",
    "#Find the Sum of Natural Numbers Using Recursion\n",
    "#Validate an IP Address\n",
    "#. Calculate the Greatest Common Divisor (GCD) Using Recursion\n",
    "# Implement a Queue using a List\n",
    "#Calculate the Power Set of a Set using Iterative Approach\n",
    "#Print the Calendar of a Given Month and Year\n",
    "#Find the Median of Three Values\n",
    "#Implement a Binary Search Algorithm Using Recursion\n",
    "#Find the Sum of Digits in a Number\n",
    "#. Convert Decimal to Binary, Octal, and Hexadecimal\n",
    "#Implement Selection Sort\n",
    "#Find the Greatest Among Three Numbers\n",
    "#Implement Insertion Sort\n",
    "#Convert Decimal to Binary\n",
    "#. Convert Decimal to Octal\n",
    "#Convert Decimal to Hexadecimal\n",
    "#Implement a Bubble Sort Algorithm:\n",
    "#Find the LCM and GCD of Two Numbers\n",
    "#. Find the Factorial of a Number:\n",
    "#Implement Quick Sort:\n",
    "#Find the Sum of Elements in a List:\n",
    "#Generate a Fibonacci Sequence Using a Loop:\n",
    "#Calculate the Exponential Value Using a Loop:\n",
    "#. Implement Linear Search Algorithm Using a Loop:\n",
    "#Calculate the Area of a Triangle Using Heron's Formula:\n",
    "#Implement a Merge Sort Algorithm:\n",
    "#7. Find the Area of a Circle:\n",
    "#Implement a Binary Search Algorithm Using a Loop:\n",
    "#Check if a String is a Valid Email Address:\n",
    "#Generate a Random List of Numbers:\n",
    "#Find the Greatest Common Divisor (GCD) of Multiple Numbers:\n",
    "#Calculate the Standard Deviation of a List of Numbers:\n",
    "#. Generate a Random Password with Specific Requirements:\n",
    "#Implement a Simple Calculator:\n",
    "#Check if a Number is a Prime Number:\n",
    "#Sort a List of Dictionaries by a Specific Key:\n",
    "#Generate a Random Matrix:\n",
    "#Implement a Counter Class:\n",
    "#Find the Area of a Rectangle:\n",
    "#Find the Area of a Rectangle:\n",
    "#Check if a String is a Valid URL:\n",
    "#\n"
   ]
  },
  {
   "cell_type": "code",
   "execution_count": null,
   "metadata": {},
   "outputs": [],
   "source": [
    "#Conditional statements\n",
    "#if\n",
    "#if-else\n",
    "#if-elif\n",
    "#if-elif-else"
   ]
  },
  {
   "cell_type": "code",
   "execution_count": 6,
   "metadata": {},
   "outputs": [
    {
     "name": "stdout",
     "output_type": "stream",
     "text": [
      "enter first number:6\n",
      "enter second number:4\n",
      "first number is greater than second\n"
     ]
    }
   ],
   "source": [
    "#write a program to find biggest of given two numbers\n",
    "a=int(raw_input(\"enter first number:\"))\n",
    "b=int(raw_input(\"enter second number:\"))\n",
    "if a>b:\n",
    "      print(\"first number is greater than second\")\n",
    "else:\n",
    "      print(\"second number is greater than first\")"
   ]
  },
  {
   "cell_type": "code",
   "execution_count": null,
   "metadata": {},
   "outputs": [],
   "source": [
    "#write a program to find biggest of three numbers"
   ]
  },
  {
   "cell_type": "code",
   "execution_count": 9,
   "metadata": {},
   "outputs": [
    {
     "name": "stdout",
     "output_type": "stream",
     "text": [
      "enter a number:55566\n",
      "not in range\n"
     ]
    }
   ],
   "source": [
    "#write a program to check whether a given number in range of 1-100\n",
    "c=int(raw_input(\"enter a number:\"))\n",
    "if c in range(1,101):\n",
    "    print(\"C is in given range\")\n",
    "else:\n",
    "    print(\"Not in range\")"
   ]
  },
  {
   "cell_type": "code",
   "execution_count": null,
   "metadata": {},
   "outputs": [],
   "source": [
    "#write a program to take a single digit number from the key board and print its value in english word\n"
   ]
  },
  {
   "cell_type": "code",
   "execution_count": 12,
   "metadata": {},
   "outputs": [
    {
     "name": "stdout",
     "output_type": "stream",
     "text": [
      "t\n",
      "e\n",
      "s\n",
      "t\n",
      "i\n",
      "n\n",
      "g\n",
      " \n",
      "p\n",
      "y\n",
      "t\n",
      "h\n",
      "o\n",
      "n\n"
     ]
    }
   ],
   "source": [
    "#for loop\n",
    "#print charachers present in a string using for loop\n",
    "d = \"testing python\"\n",
    "for i in d:\n",
    "    print(i)"
   ]
  },
  {
   "cell_type": "code",
   "execution_count": 14,
   "metadata": {},
   "outputs": [
    {
     "name": "stdout",
     "output_type": "stream",
     "text": [
      "('the letter at index', 0, 'is', 't')\n",
      "('the letter at index', 1, 'is', 'e')\n",
      "('the letter at index', 2, 'is', 's')\n",
      "('the letter at index', 3, 'is', 't')\n",
      "('the letter at index', 4, 'is', 'i')\n",
      "('the letter at index', 5, 'is', 'n')\n",
      "('the letter at index', 6, 'is', 'g')\n",
      "('the letter at index', 7, 'is', ' ')\n",
      "('the letter at index', 8, 'is', 'p')\n",
      "('the letter at index', 9, 'is', 'y')\n",
      "('the letter at index', 10, 'is', 't')\n",
      "('the letter at index', 11, 'is', 'h')\n",
      "('the letter at index', 12, 'is', 'o')\n",
      "('the letter at index', 13, 'is', 'n')\n"
     ]
    }
   ],
   "source": [
    "#for loop\n",
    "#print charachers present in a string using for loop with index\n",
    "d = \"testing python\"\n",
    "x=0\n",
    "for i in d:\n",
    "    print(\"the letter at index\", x, \"is\", i)\n",
    "    x=x+1"
   ]
  },
  {
   "cell_type": "code",
   "execution_count": 15,
   "metadata": {},
   "outputs": [
    {
     "name": "stdout",
     "output_type": "stream",
     "text": [
      "Hello\n",
      "Hello\n",
      "Hello\n",
      "Hello\n",
      "Hello\n"
     ]
    }
   ],
   "source": [
    "#print \"Hello\" 5 times\n",
    "for i in range(5):\n",
    "    print(\"Hello\")"
   ]
  },
  {
   "cell_type": "code",
   "execution_count": 17,
   "metadata": {},
   "outputs": [
    {
     "name": "stdout",
     "output_type": "stream",
     "text": [
      "0\n",
      "1\n",
      "2\n",
      "3\n",
      "4\n"
     ]
    }
   ],
   "source": [
    "#display numbers from 1 to 10\n",
    "for i in range(5):\n",
    "    print(i)"
   ]
  },
  {
   "cell_type": "code",
   "execution_count": 19,
   "metadata": {},
   "outputs": [
    {
     "name": "stdout",
     "output_type": "stream",
     "text": [
      "0\n",
      "2\n",
      "4\n"
     ]
    }
   ],
   "source": [
    "#display even numbers from 1 to 10\n",
    "for i in range(5):\n",
    "    if i%2==0:\n",
    "        print(i)"
   ]
  },
  {
   "cell_type": "code",
   "execution_count": 21,
   "metadata": {},
   "outputs": [
    {
     "name": "stdout",
     "output_type": "stream",
     "text": [
      "1\n",
      "3\n"
     ]
    }
   ],
   "source": [
    "#display odd numbers from 1 to 10\n",
    "for i in range(5):\n",
    "    if i%2!=0:\n",
    "        print(i)"
   ]
  },
  {
   "cell_type": "code",
   "execution_count": 25,
   "metadata": {},
   "outputs": [
    {
     "name": "stdout",
     "output_type": "stream",
     "text": [
      "5\n",
      "4\n",
      "3\n",
      "2\n",
      "1\n"
     ]
    }
   ],
   "source": [
    "#write a program to display numbers in descending order\n",
    "for i in range(5,0,-1):\n",
    "    print(i)"
   ]
  },
  {
   "cell_type": "code",
   "execution_count": 29,
   "metadata": {},
   "outputs": [
    {
     "name": "stdout",
     "output_type": "stream",
     "text": [
      "10\n"
     ]
    }
   ],
   "source": [
    "#print sum of numbers inside a list \n",
    "a = [1,2,3,4]\n",
    "sum =0\n",
    "for i in a:\n",
    "    sum =sum +i\n",
    "print(sum)"
   ]
  },
  {
   "cell_type": "code",
   "execution_count": 35,
   "metadata": {},
   "outputs": [
    {
     "name": "stdout",
     "output_type": "stream",
     "text": [
      "('i=', 0, 'j=', 0)\n",
      "('i=', 0, 'j=', 1)\n",
      "('i=', 1, 'j=', 0)\n",
      "('i=', 1, 'j=', 1)\n"
     ]
    }
   ],
   "source": [
    "for i in range(2):\n",
    "    for j in range(2):\n",
    "        print(\"i=\", i, \"j=\",j)"
   ]
  },
  {
   "cell_type": "code",
   "execution_count": 39,
   "metadata": {},
   "outputs": [
    {
     "ename": "SyntaxError",
     "evalue": "invalid syntax (<ipython-input-39-ed2127107e51>, line 5)",
     "output_type": "error",
     "traceback": [
      "\u001b[1;36m  File \u001b[1;32m\"<ipython-input-39-ed2127107e51>\"\u001b[1;36m, line \u001b[1;32m5\u001b[0m\n\u001b[1;33m    print(\"*\", end=\"\")\u001b[0m\n\u001b[1;37m                  ^\u001b[0m\n\u001b[1;31mSyntaxError\u001b[0m\u001b[1;31m:\u001b[0m invalid syntax\n"
     ]
    }
   ],
   "source": [
    "#write a program to display * in right angled triangle\n",
    "g = int(raw_input(\"enter the number of rows needed:\")) \n",
    "for i in range(1, g+1):\n",
    "    for j in range(1,i+1):\n",
    "        print(\"*\", end=\"\")"
   ]
  },
  {
   "cell_type": "code",
   "execution_count": 40,
   "metadata": {},
   "outputs": [
    {
     "name": "stdout",
     "output_type": "stream",
     "text": [
      "10\n",
      "5\n",
      "15\n",
      "22\n",
      "you have exceeded perchase limit\n"
     ]
    }
   ],
   "source": [
    "#break\n",
    "sale = [10,5,15,22,55]\n",
    "for item in sale:\n",
    "    if item>50:\n",
    "        print(\"you have exceeded perchase limit\")\n",
    "        break\n",
    "    print(item)"
   ]
  },
  {
   "cell_type": "code",
   "execution_count": 44,
   "metadata": {},
   "outputs": [
    {
     "name": "stdout",
     "output_type": "stream",
     "text": [
      "100/10 =10\n",
      "100/20 =5\n",
      "we cannot divide by zero...just skipping\n",
      "100/5 =20\n",
      "we cannot divide by zero...just skipping\n",
      "100/15 =6\n"
     ]
    }
   ],
   "source": [
    "#continue\n",
    "numbers = [10,20,0,5,0,15]\n",
    "for i in numbers:\n",
    "    if i ==0:\n",
    "        print(\"we cannot divide by zero...just skipping\")\n",
    "        continue\n",
    "    print(\"100/{} ={}\".format(i,100/i))"
   ]
  },
  {
   "cell_type": "code",
   "execution_count": 45,
   "metadata": {},
   "outputs": [
    {
     "ename": "SyntaxError",
     "evalue": "invalid syntax (<ipython-input-45-59a3f388758e>, line 4)",
     "output_type": "error",
     "traceback": [
      "\u001b[1;36m  File \u001b[1;32m\"<ipython-input-45-59a3f388758e>\"\u001b[1;36m, line \u001b[1;32m4\u001b[0m\n\u001b[1;33m    print('*',end='')\u001b[0m\n\u001b[1;37m                 ^\u001b[0m\n\u001b[1;31mSyntaxError\u001b[0m\u001b[1;31m:\u001b[0m invalid syntax\n"
     ]
    }
   ],
   "source": [
    "#Print a given number x times in a row\n",
    "n=int(input('Enter n value:'))\n",
    "for i in range(n):\n",
    "    print('*',end='')"
   ]
  },
  {
   "cell_type": "code",
   "execution_count": 50,
   "metadata": {},
   "outputs": [
    {
     "name": "stdout",
     "output_type": "stream",
     "text": [
      "Enter number of rows:5\n",
      "*****\n",
      "*****\n",
      "*****\n",
      "*****\n",
      "*****\n"
     ]
    }
   ],
   "source": [
    "#print square pattern with *\n",
    "n=int(input('Enter number of rows:'))\n",
    "for i in range(n):\n",
    "    print('*'*(n+0))"
   ]
  },
  {
   "cell_type": "code",
   "execution_count": 52,
   "metadata": {},
   "outputs": [
    {
     "name": "stdout",
     "output_type": "stream",
     "text": [
      "Enter number of rows:5\n",
      "11111\n",
      "22222\n",
      "33333\n",
      "44444\n",
      "55555\n"
     ]
    }
   ],
   "source": [
    "#print square pattern with fixed digits in every row\n",
    "n=int(input('Enter number of rows:'))\n",
    "for i in range(n):\n",
    "    print((str(i+1))*n)"
   ]
  },
  {
   "cell_type": "code",
   "execution_count": null,
   "metadata": {},
   "outputs": [],
   "source": []
  }
 ],
 "metadata": {
  "kernelspec": {
   "display_name": "Python 2",
   "language": "python",
   "name": "python2"
  },
  "language_info": {
   "codemirror_mode": {
    "name": "ipython",
    "version": 2
   },
   "file_extension": ".py",
   "mimetype": "text/x-python",
   "name": "python",
   "nbconvert_exporter": "python",
   "pygments_lexer": "ipython2",
   "version": "2.7.16"
  }
 },
 "nbformat": 4,
 "nbformat_minor": 2
}
